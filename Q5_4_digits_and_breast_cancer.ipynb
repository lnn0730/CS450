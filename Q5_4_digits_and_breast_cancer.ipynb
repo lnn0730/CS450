{
  "nbformat": 4,
  "nbformat_minor": 0,
  "metadata": {
    "colab": {
      "provenance": [],
      "toc_visible": true,
      "authorship_tag": "ABX9TyMwpfXinY0f/1FZFA8bhiQZ",
      "include_colab_link": true
    },
    "kernelspec": {
      "name": "python3",
      "display_name": "Python 3"
    },
    "language_info": {
      "name": "python"
    }
  },
  "cells": [
    {
      "cell_type": "markdown",
      "metadata": {
        "id": "view-in-github",
        "colab_type": "text"
      },
      "source": [
        "<a href=\"https://colab.research.google.com/github/lnn0730/CS450/blob/master/Q5_4_digits_and_breast_cancer.ipynb\" target=\"_parent\"><img src=\"https://colab.research.google.com/assets/colab-badge.svg\" alt=\"Open In Colab\"/></a>"
      ]
    },
    {
      "cell_type": "code",
      "execution_count": 2,
      "metadata": {
        "id": "nphUlsrExY-W"
      },
      "outputs": [],
      "source": [
        "from sklearn import neural_network\n",
        "import numpy as np\n",
        "from sklearn import datasets\n",
        "from sklearn.model_selection import train_test_split\n",
        "from keras import models\n",
        "from keras import layers\n",
        "from keras.utils import to_categorical\n"
      ]
    },
    {
      "cell_type": "code",
      "source": [
        "# Create the network\n",
        "network = models.Sequential()\n",
        "network.add(layers.Dense(512, activation='relu', input_shape=(4,)))\n",
        "network.add(layers.Dense(3, activation='softmax'))\n"
      ],
      "metadata": {
        "id": "uIFseW_Wxurm"
      },
      "execution_count": 3,
      "outputs": []
    },
    {
      "cell_type": "code",
      "source": [
        "\n",
        "# Compile the network\n",
        "network.compile(optimizer='rmsprop',\n",
        "                loss='categorical_crossentropy',\n",
        "                metrics=['accuracy'])\n"
      ],
      "metadata": {
        "id": "1IZ8_RIhxxGq"
      },
      "execution_count": 4,
      "outputs": []
    },
    {
      "cell_type": "code",
      "source": [
        "from sklearn.datasets import load_digits\n",
        "from sklearn.model_selection import train_test_split\n",
        "from sklearn.neural_network import MLPClassifier\n",
        "from sklearn.metrics import confusion_matrix, accuracy_score \n",
        "\n",
        "# Loading the digits dataset to a local variable (i.e. dataset)\n",
        "digits_data = load_digits()\n",
        "print(digits_data)"
      ],
      "metadata": {
        "colab": {
          "base_uri": "https://localhost:8080/"
        },
        "id": "O_dnDmW_x0b-",
        "outputId": "499093cf-fd99-477e-ee16-314ad1790ce2"
      },
      "execution_count": 10,
      "outputs": [
        {
          "output_type": "stream",
          "name": "stdout",
          "text": [
            "{'data': array([[ 0.,  0.,  5., ...,  0.,  0.,  0.],\n",
            "       [ 0.,  0.,  0., ..., 10.,  0.,  0.],\n",
            "       [ 0.,  0.,  0., ..., 16.,  9.,  0.],\n",
            "       ...,\n",
            "       [ 0.,  0.,  1., ...,  6.,  0.,  0.],\n",
            "       [ 0.,  0.,  2., ..., 12.,  0.,  0.],\n",
            "       [ 0.,  0., 10., ..., 12.,  1.,  0.]]), 'target': array([0, 1, 2, ..., 8, 9, 8]), 'frame': None, 'feature_names': ['pixel_0_0', 'pixel_0_1', 'pixel_0_2', 'pixel_0_3', 'pixel_0_4', 'pixel_0_5', 'pixel_0_6', 'pixel_0_7', 'pixel_1_0', 'pixel_1_1', 'pixel_1_2', 'pixel_1_3', 'pixel_1_4', 'pixel_1_5', 'pixel_1_6', 'pixel_1_7', 'pixel_2_0', 'pixel_2_1', 'pixel_2_2', 'pixel_2_3', 'pixel_2_4', 'pixel_2_5', 'pixel_2_6', 'pixel_2_7', 'pixel_3_0', 'pixel_3_1', 'pixel_3_2', 'pixel_3_3', 'pixel_3_4', 'pixel_3_5', 'pixel_3_6', 'pixel_3_7', 'pixel_4_0', 'pixel_4_1', 'pixel_4_2', 'pixel_4_3', 'pixel_4_4', 'pixel_4_5', 'pixel_4_6', 'pixel_4_7', 'pixel_5_0', 'pixel_5_1', 'pixel_5_2', 'pixel_5_3', 'pixel_5_4', 'pixel_5_5', 'pixel_5_6', 'pixel_5_7', 'pixel_6_0', 'pixel_6_1', 'pixel_6_2', 'pixel_6_3', 'pixel_6_4', 'pixel_6_5', 'pixel_6_6', 'pixel_6_7', 'pixel_7_0', 'pixel_7_1', 'pixel_7_2', 'pixel_7_3', 'pixel_7_4', 'pixel_7_5', 'pixel_7_6', 'pixel_7_7'], 'target_names': array([0, 1, 2, 3, 4, 5, 6, 7, 8, 9]), 'images': array([[[ 0.,  0.,  5., ...,  1.,  0.,  0.],\n",
            "        [ 0.,  0., 13., ..., 15.,  5.,  0.],\n",
            "        [ 0.,  3., 15., ..., 11.,  8.,  0.],\n",
            "        ...,\n",
            "        [ 0.,  4., 11., ..., 12.,  7.,  0.],\n",
            "        [ 0.,  2., 14., ..., 12.,  0.,  0.],\n",
            "        [ 0.,  0.,  6., ...,  0.,  0.,  0.]],\n",
            "\n",
            "       [[ 0.,  0.,  0., ...,  5.,  0.,  0.],\n",
            "        [ 0.,  0.,  0., ...,  9.,  0.,  0.],\n",
            "        [ 0.,  0.,  3., ...,  6.,  0.,  0.],\n",
            "        ...,\n",
            "        [ 0.,  0.,  1., ...,  6.,  0.,  0.],\n",
            "        [ 0.,  0.,  1., ...,  6.,  0.,  0.],\n",
            "        [ 0.,  0.,  0., ..., 10.,  0.,  0.]],\n",
            "\n",
            "       [[ 0.,  0.,  0., ..., 12.,  0.,  0.],\n",
            "        [ 0.,  0.,  3., ..., 14.,  0.,  0.],\n",
            "        [ 0.,  0.,  8., ..., 16.,  0.,  0.],\n",
            "        ...,\n",
            "        [ 0.,  9., 16., ...,  0.,  0.,  0.],\n",
            "        [ 0.,  3., 13., ..., 11.,  5.,  0.],\n",
            "        [ 0.,  0.,  0., ..., 16.,  9.,  0.]],\n",
            "\n",
            "       ...,\n",
            "\n",
            "       [[ 0.,  0.,  1., ...,  1.,  0.,  0.],\n",
            "        [ 0.,  0., 13., ...,  2.,  1.,  0.],\n",
            "        [ 0.,  0., 16., ..., 16.,  5.,  0.],\n",
            "        ...,\n",
            "        [ 0.,  0., 16., ..., 15.,  0.,  0.],\n",
            "        [ 0.,  0., 15., ..., 16.,  0.,  0.],\n",
            "        [ 0.,  0.,  2., ...,  6.,  0.,  0.]],\n",
            "\n",
            "       [[ 0.,  0.,  2., ...,  0.,  0.,  0.],\n",
            "        [ 0.,  0., 14., ..., 15.,  1.,  0.],\n",
            "        [ 0.,  4., 16., ..., 16.,  7.,  0.],\n",
            "        ...,\n",
            "        [ 0.,  0.,  0., ..., 16.,  2.,  0.],\n",
            "        [ 0.,  0.,  4., ..., 16.,  2.,  0.],\n",
            "        [ 0.,  0.,  5., ..., 12.,  0.,  0.]],\n",
            "\n",
            "       [[ 0.,  0., 10., ...,  1.,  0.,  0.],\n",
            "        [ 0.,  2., 16., ...,  1.,  0.,  0.],\n",
            "        [ 0.,  0., 15., ..., 15.,  0.,  0.],\n",
            "        ...,\n",
            "        [ 0.,  4., 16., ..., 16.,  6.,  0.],\n",
            "        [ 0.,  8., 16., ..., 16.,  8.,  0.],\n",
            "        [ 0.,  1.,  8., ..., 12.,  1.,  0.]]]), 'DESCR': \".. _digits_dataset:\\n\\nOptical recognition of handwritten digits dataset\\n--------------------------------------------------\\n\\n**Data Set Characteristics:**\\n\\n    :Number of Instances: 1797\\n    :Number of Attributes: 64\\n    :Attribute Information: 8x8 image of integer pixels in the range 0..16.\\n    :Missing Attribute Values: None\\n    :Creator: E. Alpaydin (alpaydin '@' boun.edu.tr)\\n    :Date: July; 1998\\n\\nThis is a copy of the test set of the UCI ML hand-written digits datasets\\nhttps://archive.ics.uci.edu/ml/datasets/Optical+Recognition+of+Handwritten+Digits\\n\\nThe data set contains images of hand-written digits: 10 classes where\\neach class refers to a digit.\\n\\nPreprocessing programs made available by NIST were used to extract\\nnormalized bitmaps of handwritten digits from a preprinted form. From a\\ntotal of 43 people, 30 contributed to the training set and different 13\\nto the test set. 32x32 bitmaps are divided into nonoverlapping blocks of\\n4x4 and the number of on pixels are counted in each block. This generates\\nan input matrix of 8x8 where each element is an integer in the range\\n0..16. This reduces dimensionality and gives invariance to small\\ndistortions.\\n\\nFor info on NIST preprocessing routines, see M. D. Garris, J. L. Blue, G.\\nT. Candela, D. L. Dimmick, J. Geist, P. J. Grother, S. A. Janet, and C.\\nL. Wilson, NIST Form-Based Handprint Recognition System, NISTIR 5469,\\n1994.\\n\\n.. topic:: References\\n\\n  - C. Kaynak (1995) Methods of Combining Multiple Classifiers and Their\\n    Applications to Handwritten Digit Recognition, MSc Thesis, Institute of\\n    Graduate Studies in Science and Engineering, Bogazici University.\\n  - E. Alpaydin, C. Kaynak (1998) Cascading Classifiers, Kybernetika.\\n  - Ken Tang and Ponnuthurai N. Suganthan and Xi Yao and A. Kai Qin.\\n    Linear dimensionalityreduction using relevance weighted LDA. School of\\n    Electrical and Electronic Engineering Nanyang Technological University.\\n    2005.\\n  - Claudio Gentile. A New Approximate Maximal Margin Classification\\n    Algorithm. NIPS. 2000.\\n\"}\n"
          ]
        }
      ]
    },
    {
      "cell_type": "code",
      "source": [
        "# Splitting the data into training and test sets \n",
        "x_train, x_test, y_train, y_test = train_test_split(digits_data.data, digits_data.target, test_size=0.30, random_state=4)\n",
        "\n",
        "neural_network = MLPClassifier()\n",
        "neural_network.fit(x_train, y_train)\n",
        "y_pred = neural_network.predict(x_test)\n",
        "accuracy = accuracy_score(y_test,y_pred)*100\n",
        "print(accuracy)"
      ],
      "metadata": {
        "colab": {
          "base_uri": "https://localhost:8080/"
        },
        "id": "FGOikvN_x70c",
        "outputId": "e8561136-5e79-4edd-ab7f-06aafdf3580c"
      },
      "execution_count": 6,
      "outputs": [
        {
          "output_type": "stream",
          "name": "stdout",
          "text": [
            "98.33333333333333\n"
          ]
        }
      ]
    },
    {
      "cell_type": "code",
      "source": [
        "from sklearn.datasets import load_breast_cancer\n",
        "\n",
        "# Loading the digits dataset to a local variable (i.e. dataset)\n",
        "load_breast_cancer = load_breast_cancer()\n",
        "print(load_breast_cancer)"
      ],
      "metadata": {
        "colab": {
          "base_uri": "https://localhost:8080/"
        },
        "id": "sEIe0XNMyXZH",
        "outputId": "3fb12c86-16a6-493a-d205-75e28ffaaa04"
      },
      "execution_count": 14,
      "outputs": [
        {
          "output_type": "stream",
          "name": "stdout",
          "text": [
            "{'data': array([[1.799e+01, 1.038e+01, 1.228e+02, ..., 2.654e-01, 4.601e-01,\n",
            "        1.189e-01],\n",
            "       [2.057e+01, 1.777e+01, 1.329e+02, ..., 1.860e-01, 2.750e-01,\n",
            "        8.902e-02],\n",
            "       [1.969e+01, 2.125e+01, 1.300e+02, ..., 2.430e-01, 3.613e-01,\n",
            "        8.758e-02],\n",
            "       ...,\n",
            "       [1.660e+01, 2.808e+01, 1.083e+02, ..., 1.418e-01, 2.218e-01,\n",
            "        7.820e-02],\n",
            "       [2.060e+01, 2.933e+01, 1.401e+02, ..., 2.650e-01, 4.087e-01,\n",
            "        1.240e-01],\n",
            "       [7.760e+00, 2.454e+01, 4.792e+01, ..., 0.000e+00, 2.871e-01,\n",
            "        7.039e-02]]), 'target': array([0, 0, 0, 0, 0, 0, 0, 0, 0, 0, 0, 0, 0, 0, 0, 0, 0, 0, 0, 1, 1, 1,\n",
            "       0, 0, 0, 0, 0, 0, 0, 0, 0, 0, 0, 0, 0, 0, 0, 1, 0, 0, 0, 0, 0, 0,\n",
            "       0, 0, 1, 0, 1, 1, 1, 1, 1, 0, 0, 1, 0, 0, 1, 1, 1, 1, 0, 1, 0, 0,\n",
            "       1, 1, 1, 1, 0, 1, 0, 0, 1, 0, 1, 0, 0, 1, 1, 1, 0, 0, 1, 0, 0, 0,\n",
            "       1, 1, 1, 0, 1, 1, 0, 0, 1, 1, 1, 0, 0, 1, 1, 1, 1, 0, 1, 1, 0, 1,\n",
            "       1, 1, 1, 1, 1, 1, 1, 0, 0, 0, 1, 0, 0, 1, 1, 1, 0, 0, 1, 0, 1, 0,\n",
            "       0, 1, 0, 0, 1, 1, 0, 1, 1, 0, 1, 1, 1, 1, 0, 1, 1, 1, 1, 1, 1, 1,\n",
            "       1, 1, 0, 1, 1, 1, 1, 0, 0, 1, 0, 1, 1, 0, 0, 1, 1, 0, 0, 1, 1, 1,\n",
            "       1, 0, 1, 1, 0, 0, 0, 1, 0, 1, 0, 1, 1, 1, 0, 1, 1, 0, 0, 1, 0, 0,\n",
            "       0, 0, 1, 0, 0, 0, 1, 0, 1, 0, 1, 1, 0, 1, 0, 0, 0, 0, 1, 1, 0, 0,\n",
            "       1, 1, 1, 0, 1, 1, 1, 1, 1, 0, 0, 1, 1, 0, 1, 1, 0, 0, 1, 0, 1, 1,\n",
            "       1, 1, 0, 1, 1, 1, 1, 1, 0, 1, 0, 0, 0, 0, 0, 0, 0, 0, 0, 0, 0, 0,\n",
            "       0, 0, 1, 1, 1, 1, 1, 1, 0, 1, 0, 1, 1, 0, 1, 1, 0, 1, 0, 0, 1, 1,\n",
            "       1, 1, 1, 1, 1, 1, 1, 1, 1, 1, 1, 0, 1, 1, 0, 1, 0, 1, 1, 1, 1, 1,\n",
            "       1, 1, 1, 1, 1, 1, 1, 1, 1, 0, 1, 1, 1, 0, 1, 0, 1, 1, 1, 1, 0, 0,\n",
            "       0, 1, 1, 1, 1, 0, 1, 0, 1, 0, 1, 1, 1, 0, 1, 1, 1, 1, 1, 1, 1, 0,\n",
            "       0, 0, 1, 1, 1, 1, 1, 1, 1, 1, 1, 1, 1, 0, 0, 1, 0, 0, 0, 1, 0, 0,\n",
            "       1, 1, 1, 1, 1, 0, 1, 1, 1, 1, 1, 0, 1, 1, 1, 0, 1, 1, 0, 0, 1, 1,\n",
            "       1, 1, 1, 1, 0, 1, 1, 1, 1, 1, 1, 1, 0, 1, 1, 1, 1, 1, 0, 1, 1, 0,\n",
            "       1, 1, 1, 1, 1, 1, 1, 1, 1, 1, 1, 1, 0, 1, 0, 0, 1, 0, 1, 1, 1, 1,\n",
            "       1, 0, 1, 1, 0, 1, 0, 1, 1, 0, 1, 0, 1, 1, 1, 1, 1, 1, 1, 1, 0, 0,\n",
            "       1, 1, 1, 1, 1, 1, 0, 1, 1, 1, 1, 1, 1, 1, 1, 1, 1, 0, 1, 1, 1, 1,\n",
            "       1, 1, 1, 0, 1, 0, 1, 1, 0, 1, 1, 1, 1, 1, 0, 0, 1, 0, 1, 0, 1, 1,\n",
            "       1, 1, 1, 0, 1, 1, 0, 1, 0, 1, 0, 0, 1, 1, 1, 0, 1, 1, 1, 1, 1, 1,\n",
            "       1, 1, 1, 1, 1, 0, 1, 0, 0, 1, 1, 1, 1, 1, 1, 1, 1, 1, 1, 1, 1, 1,\n",
            "       1, 1, 1, 1, 1, 1, 1, 1, 1, 1, 1, 1, 0, 0, 0, 0, 0, 0, 1]), 'frame': None, 'target_names': array(['malignant', 'benign'], dtype='<U9'), 'DESCR': '.. _breast_cancer_dataset:\\n\\nBreast cancer wisconsin (diagnostic) dataset\\n--------------------------------------------\\n\\n**Data Set Characteristics:**\\n\\n    :Number of Instances: 569\\n\\n    :Number of Attributes: 30 numeric, predictive attributes and the class\\n\\n    :Attribute Information:\\n        - radius (mean of distances from center to points on the perimeter)\\n        - texture (standard deviation of gray-scale values)\\n        - perimeter\\n        - area\\n        - smoothness (local variation in radius lengths)\\n        - compactness (perimeter^2 / area - 1.0)\\n        - concavity (severity of concave portions of the contour)\\n        - concave points (number of concave portions of the contour)\\n        - symmetry\\n        - fractal dimension (\"coastline approximation\" - 1)\\n\\n        The mean, standard error, and \"worst\" or largest (mean of the three\\n        worst/largest values) of these features were computed for each image,\\n        resulting in 30 features.  For instance, field 0 is Mean Radius, field\\n        10 is Radius SE, field 20 is Worst Radius.\\n\\n        - class:\\n                - WDBC-Malignant\\n                - WDBC-Benign\\n\\n    :Summary Statistics:\\n\\n    ===================================== ====== ======\\n                                           Min    Max\\n    ===================================== ====== ======\\n    radius (mean):                        6.981  28.11\\n    texture (mean):                       9.71   39.28\\n    perimeter (mean):                     43.79  188.5\\n    area (mean):                          143.5  2501.0\\n    smoothness (mean):                    0.053  0.163\\n    compactness (mean):                   0.019  0.345\\n    concavity (mean):                     0.0    0.427\\n    concave points (mean):                0.0    0.201\\n    symmetry (mean):                      0.106  0.304\\n    fractal dimension (mean):             0.05   0.097\\n    radius (standard error):              0.112  2.873\\n    texture (standard error):             0.36   4.885\\n    perimeter (standard error):           0.757  21.98\\n    area (standard error):                6.802  542.2\\n    smoothness (standard error):          0.002  0.031\\n    compactness (standard error):         0.002  0.135\\n    concavity (standard error):           0.0    0.396\\n    concave points (standard error):      0.0    0.053\\n    symmetry (standard error):            0.008  0.079\\n    fractal dimension (standard error):   0.001  0.03\\n    radius (worst):                       7.93   36.04\\n    texture (worst):                      12.02  49.54\\n    perimeter (worst):                    50.41  251.2\\n    area (worst):                         185.2  4254.0\\n    smoothness (worst):                   0.071  0.223\\n    compactness (worst):                  0.027  1.058\\n    concavity (worst):                    0.0    1.252\\n    concave points (worst):               0.0    0.291\\n    symmetry (worst):                     0.156  0.664\\n    fractal dimension (worst):            0.055  0.208\\n    ===================================== ====== ======\\n\\n    :Missing Attribute Values: None\\n\\n    :Class Distribution: 212 - Malignant, 357 - Benign\\n\\n    :Creator:  Dr. William H. Wolberg, W. Nick Street, Olvi L. Mangasarian\\n\\n    :Donor: Nick Street\\n\\n    :Date: November, 1995\\n\\nThis is a copy of UCI ML Breast Cancer Wisconsin (Diagnostic) datasets.\\nhttps://goo.gl/U2Uwz2\\n\\nFeatures are computed from a digitized image of a fine needle\\naspirate (FNA) of a breast mass.  They describe\\ncharacteristics of the cell nuclei present in the image.\\n\\nSeparating plane described above was obtained using\\nMultisurface Method-Tree (MSM-T) [K. P. Bennett, \"Decision Tree\\nConstruction Via Linear Programming.\" Proceedings of the 4th\\nMidwest Artificial Intelligence and Cognitive Science Society,\\npp. 97-101, 1992], a classification method which uses linear\\nprogramming to construct a decision tree.  Relevant features\\nwere selected using an exhaustive search in the space of 1-4\\nfeatures and 1-3 separating planes.\\n\\nThe actual linear program used to obtain the separating plane\\nin the 3-dimensional space is that described in:\\n[K. P. Bennett and O. L. Mangasarian: \"Robust Linear\\nProgramming Discrimination of Two Linearly Inseparable Sets\",\\nOptimization Methods and Software 1, 1992, 23-34].\\n\\nThis database is also available through the UW CS ftp server:\\n\\nftp ftp.cs.wisc.edu\\ncd math-prog/cpo-dataset/machine-learn/WDBC/\\n\\n.. topic:: References\\n\\n   - W.N. Street, W.H. Wolberg and O.L. Mangasarian. Nuclear feature extraction \\n     for breast tumor diagnosis. IS&T/SPIE 1993 International Symposium on \\n     Electronic Imaging: Science and Technology, volume 1905, pages 861-870,\\n     San Jose, CA, 1993.\\n   - O.L. Mangasarian, W.N. Street and W.H. Wolberg. Breast cancer diagnosis and \\n     prognosis via linear programming. Operations Research, 43(4), pages 570-577, \\n     July-August 1995.\\n   - W.H. Wolberg, W.N. Street, and O.L. Mangasarian. Machine learning techniques\\n     to diagnose breast cancer from fine-needle aspirates. Cancer Letters 77 (1994) \\n     163-171.', 'feature_names': array(['mean radius', 'mean texture', 'mean perimeter', 'mean area',\n",
            "       'mean smoothness', 'mean compactness', 'mean concavity',\n",
            "       'mean concave points', 'mean symmetry', 'mean fractal dimension',\n",
            "       'radius error', 'texture error', 'perimeter error', 'area error',\n",
            "       'smoothness error', 'compactness error', 'concavity error',\n",
            "       'concave points error', 'symmetry error',\n",
            "       'fractal dimension error', 'worst radius', 'worst texture',\n",
            "       'worst perimeter', 'worst area', 'worst smoothness',\n",
            "       'worst compactness', 'worst concavity', 'worst concave points',\n",
            "       'worst symmetry', 'worst fractal dimension'], dtype='<U23'), 'filename': 'breast_cancer.csv', 'data_module': 'sklearn.datasets.data'}\n"
          ]
        }
      ]
    },
    {
      "cell_type": "code",
      "source": [
        "# Splitting the data into training and test sets \n",
        "x_train, x_test, y_train, y_test = train_test_split(load_breast_cancer.data, load_breast_cancer.target, test_size=0.20, random_state=2000)\n"
      ],
      "metadata": {
        "id": "d8O_bU-RzNwA"
      },
      "execution_count": 25,
      "outputs": []
    },
    {
      "cell_type": "code",
      "source": [
        "model = models.Sequential()\n",
        "\n",
        "model.compile(optimizer='adam',\n",
        "              loss='binary_crossentropy',\n",
        "              metrics=['accuracy'])\n"
      ],
      "metadata": {
        "id": "B6EfsfeH3N2f"
      },
      "execution_count": 26,
      "outputs": []
    },
    {
      "cell_type": "code",
      "source": [
        "from sklearn.preprocessing import StandardScaler\n",
        "\n",
        "scaler = StandardScaler()\n",
        "x_train = scaler.fit_transform(x_train)\n",
        "x_test = scaler.transform(x_test)\n",
        "\n",
        "model.fit(x_train, y_train, validation_data=(x_test, y_test), epochs=100)\n",
        "print(\"Train score:\", model.evaluate(x_train, y_train))\n",
        "print(\"Test score:\", model.evaluate(x_test, y_test))"
      ],
      "metadata": {
        "colab": {
          "base_uri": "https://localhost:8080/"
        },
        "id": "pOd1QSoX6E2N",
        "outputId": "dec66227-ca5a-45b7-8246-c92282c469a4"
      },
      "execution_count": 27,
      "outputs": [
        {
          "output_type": "stream",
          "name": "stdout",
          "text": [
            "Epoch 1/100\n",
            "15/15 [==============================] - 0s 10ms/step - loss: 9.5152 - accuracy: 0.0593 - val_loss: 9.7103 - val_accuracy: 0.0526\n",
            "Epoch 2/100\n",
            "15/15 [==============================] - 0s 2ms/step - loss: 9.5152 - accuracy: 0.0593 - val_loss: 9.7103 - val_accuracy: 0.0526\n",
            "Epoch 3/100\n",
            "15/15 [==============================] - 0s 2ms/step - loss: 9.5152 - accuracy: 0.0593 - val_loss: 9.7103 - val_accuracy: 0.0526\n",
            "Epoch 4/100\n",
            "15/15 [==============================] - 0s 2ms/step - loss: 9.5152 - accuracy: 0.0593 - val_loss: 9.7103 - val_accuracy: 0.0526\n",
            "Epoch 5/100\n",
            "15/15 [==============================] - 0s 2ms/step - loss: 9.5152 - accuracy: 0.0593 - val_loss: 9.7103 - val_accuracy: 0.0526\n",
            "Epoch 6/100\n",
            "15/15 [==============================] - 0s 2ms/step - loss: 9.5152 - accuracy: 0.0593 - val_loss: 9.7103 - val_accuracy: 0.0526\n",
            "Epoch 7/100\n",
            "15/15 [==============================] - 0s 2ms/step - loss: 9.5152 - accuracy: 0.0593 - val_loss: 9.7103 - val_accuracy: 0.0526\n",
            "Epoch 8/100\n",
            "15/15 [==============================] - 0s 2ms/step - loss: 9.5152 - accuracy: 0.0593 - val_loss: 9.7103 - val_accuracy: 0.0526\n",
            "Epoch 9/100\n",
            "15/15 [==============================] - 0s 3ms/step - loss: 9.5152 - accuracy: 0.0593 - val_loss: 9.7103 - val_accuracy: 0.0526\n",
            "Epoch 10/100\n",
            "15/15 [==============================] - 0s 2ms/step - loss: 9.5152 - accuracy: 0.0593 - val_loss: 9.7103 - val_accuracy: 0.0526\n",
            "Epoch 11/100\n",
            "15/15 [==============================] - 0s 3ms/step - loss: 9.5152 - accuracy: 0.0593 - val_loss: 9.7103 - val_accuracy: 0.0526\n",
            "Epoch 12/100\n",
            "15/15 [==============================] - 0s 2ms/step - loss: 9.5152 - accuracy: 0.0593 - val_loss: 9.7103 - val_accuracy: 0.0526\n",
            "Epoch 13/100\n",
            "15/15 [==============================] - 0s 2ms/step - loss: 9.5152 - accuracy: 0.0593 - val_loss: 9.7103 - val_accuracy: 0.0526\n",
            "Epoch 14/100\n",
            "15/15 [==============================] - 0s 3ms/step - loss: 9.5152 - accuracy: 0.0593 - val_loss: 9.7103 - val_accuracy: 0.0526\n",
            "Epoch 15/100\n",
            "15/15 [==============================] - 0s 2ms/step - loss: 9.5152 - accuracy: 0.0593 - val_loss: 9.7103 - val_accuracy: 0.0526\n",
            "Epoch 16/100\n",
            "15/15 [==============================] - 0s 2ms/step - loss: 9.5152 - accuracy: 0.0593 - val_loss: 9.7103 - val_accuracy: 0.0526\n",
            "Epoch 17/100\n",
            "15/15 [==============================] - 0s 2ms/step - loss: 9.5152 - accuracy: 0.0593 - val_loss: 9.7103 - val_accuracy: 0.0526\n",
            "Epoch 18/100\n",
            "15/15 [==============================] - 0s 3ms/step - loss: 9.5152 - accuracy: 0.0593 - val_loss: 9.7103 - val_accuracy: 0.0526\n",
            "Epoch 19/100\n",
            "15/15 [==============================] - 0s 2ms/step - loss: 9.5152 - accuracy: 0.0593 - val_loss: 9.7103 - val_accuracy: 0.0526\n",
            "Epoch 20/100\n",
            "15/15 [==============================] - 0s 2ms/step - loss: 9.5152 - accuracy: 0.0593 - val_loss: 9.7103 - val_accuracy: 0.0526\n",
            "Epoch 21/100\n",
            "15/15 [==============================] - 0s 2ms/step - loss: 9.5152 - accuracy: 0.0593 - val_loss: 9.7103 - val_accuracy: 0.0526\n",
            "Epoch 22/100\n",
            "15/15 [==============================] - 0s 2ms/step - loss: 9.5152 - accuracy: 0.0593 - val_loss: 9.7103 - val_accuracy: 0.0526\n",
            "Epoch 23/100\n",
            "15/15 [==============================] - 0s 2ms/step - loss: 9.5152 - accuracy: 0.0593 - val_loss: 9.7103 - val_accuracy: 0.0526\n",
            "Epoch 24/100\n",
            "15/15 [==============================] - 0s 2ms/step - loss: 9.5152 - accuracy: 0.0593 - val_loss: 9.7103 - val_accuracy: 0.0526\n",
            "Epoch 25/100\n",
            "15/15 [==============================] - 0s 3ms/step - loss: 9.5152 - accuracy: 0.0593 - val_loss: 9.7103 - val_accuracy: 0.0526\n",
            "Epoch 26/100\n",
            "15/15 [==============================] - 0s 2ms/step - loss: 9.5152 - accuracy: 0.0593 - val_loss: 9.7103 - val_accuracy: 0.0526\n",
            "Epoch 27/100\n",
            "15/15 [==============================] - 0s 2ms/step - loss: 9.5152 - accuracy: 0.0593 - val_loss: 9.7103 - val_accuracy: 0.0526\n",
            "Epoch 28/100\n",
            "15/15 [==============================] - 0s 3ms/step - loss: 9.5152 - accuracy: 0.0593 - val_loss: 9.7103 - val_accuracy: 0.0526\n",
            "Epoch 29/100\n",
            "15/15 [==============================] - 0s 2ms/step - loss: 9.5152 - accuracy: 0.0593 - val_loss: 9.7103 - val_accuracy: 0.0526\n",
            "Epoch 30/100\n",
            "15/15 [==============================] - 0s 2ms/step - loss: 9.5152 - accuracy: 0.0593 - val_loss: 9.7103 - val_accuracy: 0.0526\n",
            "Epoch 31/100\n",
            "15/15 [==============================] - 0s 2ms/step - loss: 9.5152 - accuracy: 0.0593 - val_loss: 9.7103 - val_accuracy: 0.0526\n",
            "Epoch 32/100\n",
            "15/15 [==============================] - 0s 2ms/step - loss: 9.5152 - accuracy: 0.0593 - val_loss: 9.7103 - val_accuracy: 0.0526\n",
            "Epoch 33/100\n",
            "15/15 [==============================] - 0s 2ms/step - loss: 9.5152 - accuracy: 0.0593 - val_loss: 9.7103 - val_accuracy: 0.0526\n",
            "Epoch 34/100\n",
            "15/15 [==============================] - 0s 3ms/step - loss: 9.5152 - accuracy: 0.0593 - val_loss: 9.7103 - val_accuracy: 0.0526\n",
            "Epoch 35/100\n",
            "15/15 [==============================] - 0s 2ms/step - loss: 9.5152 - accuracy: 0.0593 - val_loss: 9.7103 - val_accuracy: 0.0526\n",
            "Epoch 36/100\n",
            "15/15 [==============================] - 0s 2ms/step - loss: 9.5152 - accuracy: 0.0593 - val_loss: 9.7103 - val_accuracy: 0.0526\n",
            "Epoch 37/100\n",
            "15/15 [==============================] - 0s 2ms/step - loss: 9.5152 - accuracy: 0.0593 - val_loss: 9.7103 - val_accuracy: 0.0526\n",
            "Epoch 38/100\n",
            "15/15 [==============================] - 0s 2ms/step - loss: 9.5152 - accuracy: 0.0593 - val_loss: 9.7103 - val_accuracy: 0.0526\n",
            "Epoch 39/100\n",
            "15/15 [==============================] - 0s 2ms/step - loss: 9.5152 - accuracy: 0.0593 - val_loss: 9.7103 - val_accuracy: 0.0526\n",
            "Epoch 40/100\n",
            "15/15 [==============================] - 0s 2ms/step - loss: 9.5152 - accuracy: 0.0593 - val_loss: 9.7103 - val_accuracy: 0.0526\n",
            "Epoch 41/100\n",
            "15/15 [==============================] - 0s 2ms/step - loss: 9.5152 - accuracy: 0.0593 - val_loss: 9.7103 - val_accuracy: 0.0526\n",
            "Epoch 42/100\n",
            "15/15 [==============================] - 0s 2ms/step - loss: 9.5152 - accuracy: 0.0593 - val_loss: 9.7103 - val_accuracy: 0.0526\n",
            "Epoch 43/100\n",
            "15/15 [==============================] - 0s 2ms/step - loss: 9.5152 - accuracy: 0.0593 - val_loss: 9.7103 - val_accuracy: 0.0526\n",
            "Epoch 44/100\n",
            "15/15 [==============================] - 0s 2ms/step - loss: 9.5152 - accuracy: 0.0593 - val_loss: 9.7103 - val_accuracy: 0.0526\n",
            "Epoch 45/100\n",
            "15/15 [==============================] - 0s 2ms/step - loss: 9.5152 - accuracy: 0.0593 - val_loss: 9.7103 - val_accuracy: 0.0526\n",
            "Epoch 46/100\n",
            "15/15 [==============================] - 0s 2ms/step - loss: 9.5152 - accuracy: 0.0593 - val_loss: 9.7103 - val_accuracy: 0.0526\n",
            "Epoch 47/100\n",
            "15/15 [==============================] - 0s 3ms/step - loss: 9.5152 - accuracy: 0.0593 - val_loss: 9.7103 - val_accuracy: 0.0526\n",
            "Epoch 48/100\n",
            "15/15 [==============================] - 0s 2ms/step - loss: 9.5152 - accuracy: 0.0593 - val_loss: 9.7103 - val_accuracy: 0.0526\n",
            "Epoch 49/100\n",
            "15/15 [==============================] - 0s 2ms/step - loss: 9.5152 - accuracy: 0.0593 - val_loss: 9.7103 - val_accuracy: 0.0526\n",
            "Epoch 50/100\n",
            "15/15 [==============================] - 0s 2ms/step - loss: 9.5152 - accuracy: 0.0593 - val_loss: 9.7103 - val_accuracy: 0.0526\n",
            "Epoch 51/100\n",
            "15/15 [==============================] - 0s 2ms/step - loss: 9.5152 - accuracy: 0.0593 - val_loss: 9.7103 - val_accuracy: 0.0526\n",
            "Epoch 52/100\n",
            "15/15 [==============================] - 0s 2ms/step - loss: 9.5152 - accuracy: 0.0593 - val_loss: 9.7103 - val_accuracy: 0.0526\n",
            "Epoch 53/100\n",
            "15/15 [==============================] - 0s 3ms/step - loss: 9.5152 - accuracy: 0.0593 - val_loss: 9.7103 - val_accuracy: 0.0526\n",
            "Epoch 54/100\n",
            "15/15 [==============================] - 0s 2ms/step - loss: 9.5152 - accuracy: 0.0593 - val_loss: 9.7103 - val_accuracy: 0.0526\n",
            "Epoch 55/100\n",
            "15/15 [==============================] - 0s 2ms/step - loss: 9.5152 - accuracy: 0.0593 - val_loss: 9.7103 - val_accuracy: 0.0526\n",
            "Epoch 56/100\n",
            "15/15 [==============================] - 0s 2ms/step - loss: 9.5152 - accuracy: 0.0593 - val_loss: 9.7103 - val_accuracy: 0.0526\n",
            "Epoch 57/100\n",
            "15/15 [==============================] - 0s 4ms/step - loss: 9.5152 - accuracy: 0.0593 - val_loss: 9.7103 - val_accuracy: 0.0526\n",
            "Epoch 58/100\n",
            "15/15 [==============================] - 0s 3ms/step - loss: 9.5152 - accuracy: 0.0593 - val_loss: 9.7103 - val_accuracy: 0.0526\n",
            "Epoch 59/100\n",
            "15/15 [==============================] - 0s 2ms/step - loss: 9.5152 - accuracy: 0.0593 - val_loss: 9.7103 - val_accuracy: 0.0526\n",
            "Epoch 60/100\n",
            "15/15 [==============================] - 0s 4ms/step - loss: 9.5152 - accuracy: 0.0593 - val_loss: 9.7103 - val_accuracy: 0.0526\n",
            "Epoch 61/100\n",
            "15/15 [==============================] - 0s 3ms/step - loss: 9.5152 - accuracy: 0.0593 - val_loss: 9.7103 - val_accuracy: 0.0526\n",
            "Epoch 62/100\n",
            "15/15 [==============================] - 0s 2ms/step - loss: 9.5152 - accuracy: 0.0593 - val_loss: 9.7103 - val_accuracy: 0.0526\n",
            "Epoch 63/100\n",
            "15/15 [==============================] - 0s 4ms/step - loss: 9.5152 - accuracy: 0.0593 - val_loss: 9.7103 - val_accuracy: 0.0526\n",
            "Epoch 64/100\n",
            "15/15 [==============================] - 0s 2ms/step - loss: 9.5152 - accuracy: 0.0593 - val_loss: 9.7103 - val_accuracy: 0.0526\n",
            "Epoch 65/100\n",
            "15/15 [==============================] - 0s 4ms/step - loss: 9.5152 - accuracy: 0.0593 - val_loss: 9.7103 - val_accuracy: 0.0526\n",
            "Epoch 66/100\n",
            "15/15 [==============================] - 0s 2ms/step - loss: 9.5152 - accuracy: 0.0593 - val_loss: 9.7103 - val_accuracy: 0.0526\n",
            "Epoch 67/100\n",
            "15/15 [==============================] - 0s 2ms/step - loss: 9.5152 - accuracy: 0.0593 - val_loss: 9.7103 - val_accuracy: 0.0526\n",
            "Epoch 68/100\n",
            "15/15 [==============================] - 0s 2ms/step - loss: 9.5152 - accuracy: 0.0593 - val_loss: 9.7103 - val_accuracy: 0.0526\n",
            "Epoch 69/100\n",
            "15/15 [==============================] - 0s 4ms/step - loss: 9.5152 - accuracy: 0.0593 - val_loss: 9.7103 - val_accuracy: 0.0526\n",
            "Epoch 70/100\n",
            "15/15 [==============================] - 0s 2ms/step - loss: 9.5152 - accuracy: 0.0593 - val_loss: 9.7103 - val_accuracy: 0.0526\n",
            "Epoch 71/100\n",
            "15/15 [==============================] - 0s 3ms/step - loss: 9.5152 - accuracy: 0.0593 - val_loss: 9.7103 - val_accuracy: 0.0526\n",
            "Epoch 72/100\n",
            "15/15 [==============================] - 0s 4ms/step - loss: 9.5152 - accuracy: 0.0593 - val_loss: 9.7103 - val_accuracy: 0.0526\n",
            "Epoch 73/100\n",
            "15/15 [==============================] - 0s 2ms/step - loss: 9.5152 - accuracy: 0.0593 - val_loss: 9.7103 - val_accuracy: 0.0526\n",
            "Epoch 74/100\n",
            "15/15 [==============================] - 0s 2ms/step - loss: 9.5152 - accuracy: 0.0593 - val_loss: 9.7103 - val_accuracy: 0.0526\n",
            "Epoch 75/100\n",
            "15/15 [==============================] - 0s 2ms/step - loss: 9.5152 - accuracy: 0.0593 - val_loss: 9.7103 - val_accuracy: 0.0526\n",
            "Epoch 76/100\n",
            "15/15 [==============================] - 0s 2ms/step - loss: 9.5152 - accuracy: 0.0593 - val_loss: 9.7103 - val_accuracy: 0.0526\n",
            "Epoch 77/100\n",
            "15/15 [==============================] - 0s 2ms/step - loss: 9.5152 - accuracy: 0.0593 - val_loss: 9.7103 - val_accuracy: 0.0526\n",
            "Epoch 78/100\n",
            "15/15 [==============================] - 0s 2ms/step - loss: 9.5152 - accuracy: 0.0593 - val_loss: 9.7103 - val_accuracy: 0.0526\n",
            "Epoch 79/100\n",
            "15/15 [==============================] - 0s 2ms/step - loss: 9.5152 - accuracy: 0.0593 - val_loss: 9.7103 - val_accuracy: 0.0526\n",
            "Epoch 80/100\n",
            "15/15 [==============================] - 0s 2ms/step - loss: 9.5152 - accuracy: 0.0593 - val_loss: 9.7103 - val_accuracy: 0.0526\n",
            "Epoch 81/100\n",
            "15/15 [==============================] - 0s 2ms/step - loss: 9.5152 - accuracy: 0.0593 - val_loss: 9.7103 - val_accuracy: 0.0526\n",
            "Epoch 82/100\n",
            "15/15 [==============================] - 0s 2ms/step - loss: 9.5152 - accuracy: 0.0593 - val_loss: 9.7103 - val_accuracy: 0.0526\n",
            "Epoch 83/100\n",
            "15/15 [==============================] - 0s 3ms/step - loss: 9.5152 - accuracy: 0.0593 - val_loss: 9.7103 - val_accuracy: 0.0526\n",
            "Epoch 84/100\n",
            "15/15 [==============================] - 0s 3ms/step - loss: 9.5152 - accuracy: 0.0593 - val_loss: 9.7103 - val_accuracy: 0.0526\n",
            "Epoch 85/100\n",
            "15/15 [==============================] - 0s 2ms/step - loss: 9.5152 - accuracy: 0.0593 - val_loss: 9.7103 - val_accuracy: 0.0526\n",
            "Epoch 86/100\n",
            "15/15 [==============================] - 0s 4ms/step - loss: 9.5152 - accuracy: 0.0593 - val_loss: 9.7103 - val_accuracy: 0.0526\n",
            "Epoch 87/100\n",
            "15/15 [==============================] - 0s 3ms/step - loss: 9.5152 - accuracy: 0.0593 - val_loss: 9.7103 - val_accuracy: 0.0526\n",
            "Epoch 88/100\n",
            "15/15 [==============================] - 0s 3ms/step - loss: 9.5152 - accuracy: 0.0593 - val_loss: 9.7103 - val_accuracy: 0.0526\n",
            "Epoch 89/100\n",
            "15/15 [==============================] - 0s 2ms/step - loss: 9.5152 - accuracy: 0.0593 - val_loss: 9.7103 - val_accuracy: 0.0526\n",
            "Epoch 90/100\n",
            "15/15 [==============================] - 0s 2ms/step - loss: 9.5152 - accuracy: 0.0593 - val_loss: 9.7103 - val_accuracy: 0.0526\n",
            "Epoch 91/100\n",
            "15/15 [==============================] - 0s 3ms/step - loss: 9.5152 - accuracy: 0.0593 - val_loss: 9.7103 - val_accuracy: 0.0526\n",
            "Epoch 92/100\n",
            "15/15 [==============================] - 0s 2ms/step - loss: 9.5152 - accuracy: 0.0593 - val_loss: 9.7103 - val_accuracy: 0.0526\n",
            "Epoch 93/100\n",
            "15/15 [==============================] - 0s 2ms/step - loss: 9.5152 - accuracy: 0.0593 - val_loss: 9.7103 - val_accuracy: 0.0526\n",
            "Epoch 94/100\n",
            "15/15 [==============================] - 0s 3ms/step - loss: 9.5152 - accuracy: 0.0593 - val_loss: 9.7103 - val_accuracy: 0.0526\n",
            "Epoch 95/100\n",
            "15/15 [==============================] - 0s 2ms/step - loss: 9.5152 - accuracy: 0.0593 - val_loss: 9.7103 - val_accuracy: 0.0526\n",
            "Epoch 96/100\n",
            "15/15 [==============================] - 0s 2ms/step - loss: 9.5152 - accuracy: 0.0593 - val_loss: 9.7103 - val_accuracy: 0.0526\n",
            "Epoch 97/100\n",
            "15/15 [==============================] - 0s 2ms/step - loss: 9.5152 - accuracy: 0.0593 - val_loss: 9.7103 - val_accuracy: 0.0526\n",
            "Epoch 98/100\n",
            "15/15 [==============================] - 0s 2ms/step - loss: 9.5152 - accuracy: 0.0593 - val_loss: 9.7103 - val_accuracy: 0.0526\n",
            "Epoch 99/100\n",
            "15/15 [==============================] - 0s 2ms/step - loss: 9.5152 - accuracy: 0.0593 - val_loss: 9.7103 - val_accuracy: 0.0526\n",
            "Epoch 100/100\n",
            "15/15 [==============================] - 0s 2ms/step - loss: 9.5152 - accuracy: 0.0593 - val_loss: 9.7103 - val_accuracy: 0.0526\n",
            "15/15 [==============================] - 0s 1ms/step - loss: 9.5152 - accuracy: 0.0593\n",
            "Train score: [9.515188217163086, 0.05934065952897072]\n",
            "4/4 [==============================] - 0s 2ms/step - loss: 9.7103 - accuracy: 0.0526\n",
            "Test score: [9.710341453552246, 0.05263157933950424]\n"
          ]
        }
      ]
    }
  ]
}